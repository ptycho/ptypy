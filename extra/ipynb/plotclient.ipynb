{
 "cells": [
  {
   "cell_type": "markdown",
   "metadata": {},
   "source": [
    "# Plotclient for ptypy (online)"
   ]
  },
  {
   "cell_type": "code",
   "execution_count": null,
   "metadata": {
    "extensions": {
     "jupyter_dashboards": {
      "version": 1,
      "views": {
       "grid_default": {
        "hidden": true
       },
       "report_default": {}
      }
     }
    }
   },
   "outputs": [],
   "source": [
    "from ptypy.utils import PlotClient\n",
    "from ptypy.utils.plot_utils import PtyAxis\n",
    "import matplotlib.pyplot as plt\n",
    "import numpy as np\n",
    "import time\n",
    "%matplotlib inline"
   ]
  },
  {
   "cell_type": "markdown",
   "metadata": {},
   "source": [
    "## Start the online viewer"
   ]
  },
  {
   "cell_type": "code",
   "execution_count": null,
   "metadata": {
    "extensions": {
     "jupyter_dashboards": {
      "version": 1,
      "views": {
       "grid_default": {
        "hidden": true
       },
       "report_default": {}
      }
     }
    }
   },
   "outputs": [],
   "source": [
    "pc   = PlotClient(in_thread=False)\n",
    "newdata = lambda: pc.get_data()\n",
    "pc.start()"
   ]
  },
  {
   "cell_type": "code",
   "execution_count": null,
   "metadata": {},
   "outputs": [],
   "source": [
    "prdict,obdict,metadict = newdata()\n",
    "pr = prdict[list(prdict.keys())[0]]['data']\n",
    "ob = obdict[list(prdict.keys())[0]]['data']\n",
    "fig, axes = plt.subplots(ncols=3, figsize=(12,3), dpi=100)\n",
    "\n",
    "# Plotting the object\n",
    "ptya1 = PtyAxis(axes[0], channel='a',cmap='viridis', vmin=None, vmax=None)\n",
    "#ptya1.add_colorbar()\n",
    "ptya1.ax.set_title('Iteration %d' %metadict.iter_info[-1]['iteration'], size=12) \n",
    "ptya1.set_data(ob[0])\n",
    "\n",
    "# Plotting the probe\n",
    "ptya2 = PtyAxis(axes[1], channel='a',cmap='viridis', vmin=None, vmax=None)\n",
    "#ptya2.add_colorbar()\n",
    "ptya2.ax.set_title('Iteration %d' %metadict.iter_info[-1]['iteration'], size=12) \n",
    "ptya2.set_data(pr[0])\n",
    "\n",
    "# Plotting the errors\n",
    "error = np.array([info['error'] for info in metadict.iter_info])\n",
    "err_fmag = error[1:, 0]\n",
    "err_phot = error[1:, 1]\n",
    "err_exit = error[1:, 2]\n",
    "fmag = err_fmag/np.max(err_fmag)\n",
    "axes[2].plot(fmag, label='err_fmag %2.2f%% of %.2e' % (fmag[-1]*100, np.max(err_fmag)))\n",
    "phot = err_phot/np.max(err_phot)\n",
    "axes[2].plot(phot, label='err_phot %2.2f%% of %.2e' % (phot[-1]*100, np.max(err_phot)))\n",
    "ex = err_exit/np.max(err_exit)\n",
    "axes[2].plot(ex, label='err_exit %2.2f%% of %.2e' % (ex[-1]*100, np.max(err_exit)))\n",
    "axes[2].legend(loc=1, fontsize=10, frameon=0)\n",
    "plt.setp(axes[2].get_xticklabels(), fontsize=10)\n",
    "plt.setp(axes[2].get_yticklabels(), fontsize=10)\n",
    "plt.show()"
   ]
  },
  {
   "cell_type": "markdown",
   "metadata": {},
   "source": [
    "## Stop the online viewer"
   ]
  },
  {
   "cell_type": "code",
   "execution_count": null,
   "metadata": {},
   "outputs": [],
   "source": [
    "pc.stop()"
   ]
  }
 ],
 "metadata": {
  "extensions": {
   "jupyter_dashboards": {
    "activeView": "grid_default",
    "version": 1,
    "views": {
     "grid_default": {
      "cellMargin": 10,
      "defaultCellHeight": 20,
      "maxColumns": 12,
      "name": "grid",
      "type": "grid"
     },
     "report_default": {
      "name": "report",
      "type": "report"
     }
    }
   }
  },
  "kernelspec": {
   "display_name": "Python 2",
   "language": "python",
   "name": "python2"
  },
  "language_info": {
   "codemirror_mode": {
    "name": "ipython",
    "version": 2
   },
   "file_extension": ".py",
   "mimetype": "text/x-python",
   "name": "python",
   "nbconvert_exporter": "python",
   "pygments_lexer": "ipython2",
   "version": "2.7.15"
  }
 },
 "nbformat": 4,
 "nbformat_minor": 1
}
