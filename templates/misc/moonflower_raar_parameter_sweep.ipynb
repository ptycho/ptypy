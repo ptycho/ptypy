{
 "cells": [
  {
   "cell_type": "markdown",
   "metadata": {},
   "source": [
    "## PtyPy moonflower example\n",
    "#### scan model: BlockFull\n",
    "#### engine: Relaxed Averaged Alternate Projections (RAAR)"
   ]
  },
  {
   "cell_type": "code",
   "execution_count": null,
   "metadata": {},
   "outputs": [],
   "source": [
    "from ptypy.core import Ptycho\n",
    "from ptypy import utils as u"
   ]
  },
  {
   "cell_type": "code",
   "execution_count": null,
   "metadata": {},
   "outputs": [],
   "source": [
    "# create parameter tree\n",
    "p = u.Param()"
   ]
  },
  {
   "cell_type": "code",
   "execution_count": null,
   "metadata": {},
   "outputs": [],
   "source": [
    "# set verbose level to interactive\n",
    "p.verbose_level = \"interactive\""
   ]
  },
  {
   "cell_type": "code",
   "execution_count": null,
   "metadata": {},
   "outputs": [],
   "source": [
    "# set home path and io settings (no files saved)\n",
    "p.io = u.Param()\n",
    "p.io.rfile = None\n",
    "p.io.autosave = u.Param(active=False)\n",
    "p.io.interaction = u.Param(active=False)"
   ]
  },
  {
   "cell_type": "code",
   "execution_count": null,
   "metadata": {},
   "outputs": [],
   "source": [
    "p.io.autoplot = u.Param()\n",
    "p.io.autoplot.active = True\n",
    "p.io.autoplot.threaded = False\n",
    "p.io.autoplot.layout = \"jupyter\"\n",
    "p.io.autoplot.interval = 1"
   ]
  },
  {
   "cell_type": "code",
   "execution_count": null,
   "metadata": {},
   "outputs": [],
   "source": [
    "# max 200 frames (128x128px) of diffraction data\n",
    "p.scans = u.Param()\n",
    "p.scans.MF = u.Param()\n",
    "p.scans.MF.name = 'BlockFull'\n",
    "p.scans.MF.data= u.Param()\n",
    "p.scans.MF.data.name = 'MoonFlowerScan'\n",
    "p.scans.MF.data.shape = 128\n",
    "p.scans.MF.data.num_frames = 200\n",
    "p.scans.MF.data.save = None\n",
    "p.scans.MF.data.density = 0.2\n",
    "p.scans.MF.data.photons = 1e8\n",
    "p.scans.MF.data.psf = 0."
   ]
  },
  {
   "cell_type": "markdown",
   "metadata": {},
   "source": [
    "### Load/prep data and save initial state"
   ]
  },
  {
   "cell_type": "code",
   "execution_count": null,
   "metadata": {},
   "outputs": [],
   "source": [
    "# Load and prepare\n",
    "P = Ptycho(p,level=4)\n",
    "# Save initial state\n",
    "P.copy_state(name=\"initial\")"
   ]
  },
  {
   "cell_type": "markdown",
   "metadata": {},
   "source": [
    "### Run RAAR with beta = 0.9 and save the final state"
   ]
  },
  {
   "cell_type": "code",
   "execution_count": null,
   "metadata": {},
   "outputs": [],
   "source": [
    "# RAAR reconstrucion engine\n",
    "engine_pars = u.Param()\n",
    "engine_pars.name = 'RAAR'\n",
    "engine_pars.numiter = 100\n",
    "engine_pars.beta = 0.9\n",
    "P.run(epars=engine_pars)"
   ]
  },
  {
   "cell_type": "code",
   "execution_count": null,
   "metadata": {},
   "outputs": [],
   "source": [
    "P.copy_state(name=\"RAAR with beta 0.9\")"
   ]
  },
  {
   "cell_type": "markdown",
   "metadata": {},
   "source": [
    "### Run RAAR with beta = 0.7 and save the final state"
   ]
  },
  {
   "cell_type": "code",
   "execution_count": null,
   "metadata": {},
   "outputs": [],
   "source": [
    "P.restore_state(name=\"initial\")\n",
    "# Check that we are indeed starting from beginning again\n",
    "fig = u.plot_client.figure_from_ptycho(P)"
   ]
  },
  {
   "cell_type": "code",
   "execution_count": null,
   "metadata": {},
   "outputs": [],
   "source": [
    "# RAAR reconstrucion engine\n",
    "engine_pars = u.Param()\n",
    "engine_pars.name = 'RAAR'\n",
    "engine_pars.numiter = 100\n",
    "engine_pars.beta = 0.7\n",
    "P.run(epars=engine_pars)"
   ]
  },
  {
   "cell_type": "code",
   "execution_count": null,
   "metadata": {},
   "outputs": [],
   "source": [
    "P.copy_state(name=\"RAAR with beta 0.7\")"
   ]
  },
  {
   "cell_type": "markdown",
   "metadata": {},
   "source": [
    "### Compare reconstructions with different beta"
   ]
  },
  {
   "cell_type": "code",
   "execution_count": null,
   "metadata": {},
   "outputs": [],
   "source": [
    "import numpy as np\n",
    "import matplotlib.pyplot as plt\n",
    "fig, axes = plt.subplots(ncols=2, nrows=3, figsize=(4,6))\n",
    "axes[0,0].set_title(\"beta = 0.9\")\n",
    "axes[0,0].imshow(np.abs(P.state_dict[\"RAAR with beta 0.9\"][\"ob\"].storages[\"SMFG00\"].data[0,100:-100,100:-100]))\n",
    "axes[1,0].imshow(np.angle(P.state_dict[\"RAAR with beta 0.9\"][\"ob\"].storages[\"SMFG00\"].data[0,100:-100,100:-100]))\n",
    "ax10 = u.PtyAxis(axes[2,0], channel=\"c\")\n",
    "ax10.set_data(P.state_dict[\"RAAR with beta 0.9\"][\"pr\"].storages[\"SMFG00\"].data[0,20:-20,20:-20])\n",
    "axes[0,1].set_title(\"beta = 0.7\")\n",
    "axes[0,1].imshow(np.abs(P.state_dict[\"RAAR with beta 0.7\"][\"ob\"].storages[\"SMFG00\"].data[0,100:-100,100:-100]))\n",
    "axes[1,1].imshow(np.angle(P.state_dict[\"RAAR with beta 0.7\"][\"ob\"].storages[\"SMFG00\"].data[0,100:-100,100:-100]))\n",
    "ax11 = u.PtyAxis(axes[2,1], channel=\"c\")\n",
    "ax11.set_data(P.state_dict[\"RAAR with beta 0.7\"][\"pr\"].storages[\"SMFG00\"].data[0,20:-20,20:-20])"
   ]
  },
  {
   "cell_type": "code",
   "execution_count": null,
   "metadata": {},
   "outputs": [],
   "source": [
    "iters_0_7 = np.array([it[\"iterations\"] for it in P.state_dict[\"RAAR with beta 0.7\"][\"runtime\"][\"iter_info\"]])\n",
    "error_0_7 = np.array([it[\"error\"] for it in P.state_dict[\"RAAR with beta 0.7\"][\"runtime\"][\"iter_info\"]])"
   ]
  },
  {
   "cell_type": "code",
   "execution_count": null,
   "metadata": {},
   "outputs": [],
   "source": [
    "iters_0_9 = np.array([it[\"iterations\"] for it in P.state_dict[\"RAAR with beta 0.9\"][\"runtime\"][\"iter_info\"]])\n",
    "error_0_9 = np.array([it[\"error\"] for it in P.state_dict[\"RAAR with beta 0.9\"][\"runtime\"][\"iter_info\"]])"
   ]
  },
  {
   "cell_type": "code",
   "execution_count": null,
   "metadata": {},
   "outputs": [],
   "source": [
    "plt.figure()\n",
    "plt.plot(iters_0_7, error_0_7[:,1], label=\"beta=0.7\")\n",
    "plt.plot(iters_0_9, error_0_9[:,1], label=\"beta=0.9\")\n",
    "plt.semilogy()\n",
    "plt.ylabel(\"Maximum Likelihood error\")\n",
    "plt.xlabel(\"Nr. of iterations\")\n",
    "plt.legend()\n",
    "plt.show()"
   ]
  }
 ],
 "metadata": {
  "kernelspec": {
   "display_name": "Python 3 (ipykernel) [User Conda - cuda11.7]",
   "language": "python",
   "name": "conda-env-User_Conda_-_cuda11.7-python3"
  },
  "language_info": {
   "codemirror_mode": {
    "name": "ipython",
    "version": 3
   },
   "file_extension": ".py",
   "mimetype": "text/x-python",
   "name": "python",
   "nbconvert_exporter": "python",
   "pygments_lexer": "ipython3",
   "version": "3.10.8"
  }
 },
 "nbformat": 4,
 "nbformat_minor": 4
}
