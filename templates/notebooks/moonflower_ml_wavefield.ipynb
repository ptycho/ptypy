{
 "cells": [
  {
   "cell_type": "markdown",
   "metadata": {},
   "source": [
    "## PtyPy moonflower example\n",
    "#### scan model: BlockGradFull\n",
    "#### engine: Maximum Likelihood (ML)"
   ]
  },
  {
   "cell_type": "code",
   "execution_count": null,
   "metadata": {},
   "outputs": [],
   "source": [
    "from ptypy.core import Ptycho\n",
    "from ptypy import utils as u"
   ]
  },
  {
   "cell_type": "code",
   "execution_count": 2,
   "metadata": {},
   "outputs": [],
   "source": [
    "# create parameter tree\n",
    "p = u.Param()"
   ]
  },
  {
   "cell_type": "code",
   "execution_count": 3,
   "metadata": {},
   "outputs": [],
   "source": [
    "# set verbose level to interactive\n",
    "p.verbose_level = \"interactive\""
   ]
  },
  {
   "cell_type": "code",
   "execution_count": 4,
   "metadata": {},
   "outputs": [],
   "source": [
    "# set home path and io settings (no files saved)\n",
    "p.io = u.Param()\n",
    "p.io.rfile = None\n",
    "p.io.autosave = u.Param(active=False)\n",
    "p.io.autoplot = u.Param(active=False)\n",
    "p.io.interaction = u.Param(active=False)"
   ]
  },
  {
   "cell_type": "code",
   "execution_count": 5,
   "metadata": {},
   "outputs": [],
   "source": [
    "# max 200 frames (128x128px) of diffraction data\n",
    "p.scans = u.Param()\n",
    "p.scans.MF = u.Param()\n",
    "p.scans.MF.name = 'BlockGradFull'\n",
    "p.scans.MF.data= u.Param()\n",
    "p.scans.MF.data.name = 'MoonFlowerScan'\n",
    "p.scans.MF.data.shape = 128\n",
    "p.scans.MF.data.num_frames = 200\n",
    "p.scans.MF.data.save = None\n",
    "p.scans.MF.data.density = 0.2\n",
    "p.scans.MF.data.photons = 1e8\n",
    "p.scans.MF.data.psf = 0."
   ]
  },
  {
   "cell_type": "code",
   "execution_count": 6,
   "metadata": {},
   "outputs": [],
   "source": [
    "# maximum likelihood reconstrucion engine\n",
    "p.engines = u.Param()\n",
    "p.engines.engine00 = u.Param()\n",
    "p.engines.engine00.name = 'ML'\n",
    "p.engines.engine00.ML_type = 'Gaussian'\n",
    "p.engines.engine00.wavefield_precond = True\n",
    "#p.engines.engine00.reg_del2 = True\n",
    "#p.engines.engine00.reg_del2_amplitude = 1.\n",
    "#p.engines.engine00.scale_precond = True\n",
    "#p.engines.engine00.smooth_gradient = 20.\n",
    "#p.engines.engine00.smooth_gradient_decay = 1/50.\n",
    "#p.engines.engine00.floating_intensities = False\n",
    "p.engines.engine00.numiter = 200"
   ]
  },
  {
   "cell_type": "code",
   "execution_count": null,
   "metadata": {},
   "outputs": [],
   "source": [
    "# prepare and run\n",
    "P = Ptycho(p,level=5)"
   ]
  },
  {
   "cell_type": "markdown",
   "metadata": {},
   "source": [
    "## Plotting the results"
   ]
  },
  {
   "cell_type": "code",
   "execution_count": null,
   "metadata": {},
   "outputs": [],
   "source": [
    "import ptypy.utils.plot_client as pc\n",
    "fig = pc.figure_from_ptycho(P)"
   ]
  }
 ],
 "metadata": {
  "kernelspec": {
   "display_name": "Python 3 (ipykernel)",
   "language": "python",
   "name": "python3"
  },
  "language_info": {
   "codemirror_mode": {
    "name": "ipython",
    "version": 3
   },
   "file_extension": ".py",
   "mimetype": "text/x-python",
   "name": "python",
   "nbconvert_exporter": "python",
   "pygments_lexer": "ipython3",
   "version": "3.12.6"
  },
  "orig_nbformat": 4
 },
 "nbformat": 4,
 "nbformat_minor": 2
}
