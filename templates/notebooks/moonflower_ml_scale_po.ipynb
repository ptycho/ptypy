{
 "cells": [
  {
   "cell_type": "markdown",
   "metadata": {},
   "source": [
    "## PtyPy moonflower example\n",
    "#### scan model: BlockFull\n",
    "#### engine: Maximum Likelihood (ML)"
   ]
  },
  {
   "cell_type": "code",
   "execution_count": null,
   "metadata": {},
   "outputs": [],
   "source": [
    "from ptypy.core import Ptycho\n",
    "from ptypy import utils as u"
   ]
  },
  {
   "cell_type": "code",
   "execution_count": null,
   "metadata": {},
   "outputs": [],
   "source": [
    "# create parameter tree\n",
    "p = u.Param()"
   ]
  },
  {
   "cell_type": "code",
   "execution_count": null,
   "metadata": {},
   "outputs": [],
   "source": [
    "# set verbose level to interactive\n",
    "p.verbose_level = \"interactive\""
   ]
  },
  {
   "cell_type": "code",
   "execution_count": null,
   "metadata": {},
   "outputs": [],
   "source": [
    "# set home path and io settings (no files saved)\n",
    "p.io = u.Param()\n",
    "p.io.rfile = None\n",
    "p.io.autosave = u.Param(active=False)\n",
    "p.io.autoplot = u.Param(active=False)\n",
    "p.io.interaction = u.Param(active=False)"
   ]
  },
  {
   "cell_type": "code",
   "execution_count": null,
   "metadata": {},
   "outputs": [],
   "source": [
    "# max 200 frames (128x128px) of diffraction data\n",
    "p.scans = u.Param()\n",
    "p.scans.MF = u.Param()\n",
    "p.scans.MF.name = 'BlockFull'\n",
    "p.scans.MF.data= u.Param()\n",
    "p.scans.MF.data.name = 'MoonFlowerScan'\n",
    "p.scans.MF.data.shape = 128\n",
    "p.scans.MF.data.num_frames = 200\n",
    "p.scans.MF.data.save = None\n",
    "p.scans.MF.data.density = 0.2\n",
    "p.scans.MF.data.photons = 1e8\n",
    "p.scans.MF.data.psf = 0."
   ]
  },
  {
   "cell_type": "code",
   "execution_count": null,
   "metadata": {},
   "outputs": [],
   "source": [
    "# maximum likelihood reconstruction engine\n",
    "p.engines = u.Param()\n",
    "p.engines.engine00 = u.Param()\n",
    "p.engines.engine00.name = 'ML'\n",
    "p.engines.engine00.ML_type = 'Gaussian'\n",
    "p.engines.engine00.reg_del2 = True\n",
    "p.engines.engine00.reg_del2_amplitude = 1.\n",
    "p.engines.engine00.scale_precond = True\n",
    "#p.engines.engine00.smooth_gradient = 20.\n",
    "#p.engines.engine00.smooth_gradient_decay = 1/50.\n",
    "p.engines.engine00.floating_intensities = False\n",
    "p.engines.engine00.numiter = 300"
   ]
  },
  {
   "cell_type": "code",
   "execution_count": null,
   "metadata": {},
   "outputs": [],
   "source": [
    "# prepare and run\n",
    "P = Ptycho(p,level=5)"
   ]
  },
  {
   "cell_type": "markdown",
   "metadata": {},
   "source": [
    "## Plotting the results"
   ]
  },
  {
   "cell_type": "code",
   "execution_count": null,
   "metadata": {},
   "outputs": [],
   "source": [
    "import numpy as np\n",
    "import matplotlib.pyplot as plt\n",
    "obj  = P.obj.S['SMFG00'].data[0]\n",
    "prb  = P.probe.S['SMFG00'].data[:]\n",
    "likelihood_error = [P.runtime[\"iter_info\"][i]['error'][1] for i in range(len(P.runtime[\"iter_info\"]))]\n",
    "iterations = [P.runtime[\"iter_info\"][i]['iterations'] for i in range(len(P.runtime[\"iter_info\"]))]\n",
    "duration = [P.runtime[\"iter_info\"][i]['duration'] for i in range(len(P.runtime[\"iter_info\"]))]\n",
    "fig, axes = plt.subplots(ncols=5, nrows=1, figsize=(18,4), dpi=60)\n",
    "axes[0].set_title(\"Object amplitude\")\n",
    "axes[0].axis('off')\n",
    "axes[0].imshow(np.abs(obj)[100:-100,100:-100], cmap='gray', vmin=None, vmax=None, interpolation='none')\n",
    "axes[1].set_title(\"Object phase\")\n",
    "axes[1].axis('off')\n",
    "axes[1].imshow(np.angle(obj)[100:-100,100:-100], vmin=-np.pi, vmax=np.pi, cmap='viridis', interpolation='none')\n",
    "axes[2].set_title(\"Probe\")\n",
    "axes[2].axis('off')\n",
    "axes[2] = u.PtyAxis(axes[2], channel='c')\n",
    "axes[2].set_data(prb[0])\n",
    "axes[3].set_title(\"Convergence\")\n",
    "axes[3].plot(iterations, likelihood_error)\n",
    "axes[3].set_xlabel(\"Iteration\")\n",
    "axes[3].set_ylabel(\"Log-likelihood error\")\n",
    "axes[3].yaxis.set_label_position('right')\n",
    "axes[3].tick_params(left=0, right=1, labelleft=0, labelright=1)\n",
    "axes[4].set_title(\"Duration\")\n",
    "axes[4].plot(iterations, duration, '.-')\n",
    "axes[4].set_xlabel(\"Iteration\")\n",
    "axes[4].set_ylabel(\"Time (s)\")\n",
    "axes[4].yaxis.set_label_position('right')\n",
    "axes[4].tick_params(left=0, right=1, labelleft=0, labelright=1)\n",
    "plt.show()"
   ]
  }
 ],
 "metadata": {
  "interpreter": {
   "hash": "aee8b7b246df8f9039afb4144a1f6fd8d2ca17a180786b69acc140d282b71a49"
  },
  "kernelspec": {
   "display_name": "Python 3.9.12 64-bit",
   "language": "python",
   "name": "python3"
  },
  "language_info": {
   "codemirror_mode": {
    "name": "ipython",
    "version": 3
   },
   "file_extension": ".py",
   "mimetype": "text/x-python",
   "name": "python",
   "nbconvert_exporter": "python",
   "pygments_lexer": "ipython3",
   "version": "3.9.12"
  },
  "orig_nbformat": 4
 },
 "nbformat": 4,
 "nbformat_minor": 2
}
