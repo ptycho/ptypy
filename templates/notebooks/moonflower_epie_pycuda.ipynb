{
 "cells": [
  {
   "cell_type": "markdown",
   "metadata": {},
   "source": [
    "## PtyPy moonflower example\n",
    "#### scan model: GradFull\n",
    "#### engine: Extended Ptychographic Iterative Engine (EPIE) with GPU acceleration"
   ]
  },
  {
   "cell_type": "code",
   "execution_count": null,
   "metadata": {},
   "outputs": [],
   "source": [
    "import ptypy\n",
    "from ptypy.core import Ptycho\n",
    "from ptypy import utils as u"
   ]
  },
  {
   "cell_type": "code",
   "execution_count": null,
   "metadata": {},
   "outputs": [],
   "source": [
    "# Import pycuda engines (DM, RAAR)\n",
    "ptypy.load_gpu_engines(\"pycuda\")"
   ]
  },
  {
   "cell_type": "code",
   "execution_count": null,
   "metadata": {},
   "outputs": [],
   "source": [
    "# create parameter tree\n",
    "p = u.Param()"
   ]
  },
  {
   "cell_type": "code",
   "execution_count": null,
   "metadata": {},
   "outputs": [],
   "source": [
    "# set verbose level to interactive\n",
    "p.verbose_level = \"interactive\""
   ]
  },
  {
   "cell_type": "code",
   "execution_count": null,
   "metadata": {},
   "outputs": [],
   "source": [
    "# set home path and io settings (no files saved)\n",
    "p.io = u.Param()\n",
    "p.io.rfile = None\n",
    "p.io.autosave = u.Param(active=False)\n",
    "p.io.autoplot = u.Param(active=False)\n",
    "p.io.interaction = u.Param(active=False)"
   ]
  },
  {
   "cell_type": "code",
   "execution_count": null,
   "metadata": {},
   "outputs": [],
   "source": [
    "# max 200 frames (128x128px) of diffraction data\n",
    "p.scans = u.Param()\n",
    "p.scans.MF = u.Param()\n",
    "p.scans.MF.name = 'GradFull'\n",
    "p.scans.MF.data= u.Param()\n",
    "p.scans.MF.data.name = 'MoonFlowerScan'\n",
    "p.scans.MF.data.shape = 128\n",
    "p.scans.MF.data.num_frames = 200\n",
    "p.scans.MF.data.save = None\n",
    "p.scans.MF.data.density = 0.2\n",
    "p.scans.MF.data.photons = 1e8\n",
    "p.scans.MF.data.psf = 0."
   ]
  },
  {
   "cell_type": "code",
   "execution_count": null,
   "metadata": {},
   "outputs": [],
   "source": [
    "# EPIE reconstrucion engine\n",
    "p.engines = u.Param()\n",
    "p.engines.engine00 = u.Param()\n",
    "p.engines.engine00.name = 'EPIE_pycuda'\n",
    "p.engines.engine00.numiter = 500\n",
    "p.engines.engine00.numiter_contiguous = 10\n",
    "p.engines.engine00.object_norm_is_global = True\n",
    "p.engines.engine00.alpha = 1\n",
    "p.engines.engine00.beta = 1\n",
    "p.engines.engine00.probe_update_start = 2"
   ]
  },
  {
   "cell_type": "code",
   "execution_count": null,
   "metadata": {},
   "outputs": [],
   "source": [
    "# prepare and run\n",
    "P = Ptycho(p,level=5)"
   ]
  },
  {
   "cell_type": "markdown",
   "metadata": {},
   "source": [
    "## Plotting the results"
   ]
  },
  {
   "cell_type": "code",
   "execution_count": null,
   "metadata": {},
   "outputs": [],
   "source": [
    "import ptypy.utils.plot_client as pc\n",
    "fig = pc.figure_from_ptycho(P)"
   ]
  }
 ],
 "metadata": {
  "language_info": {
   "codemirror_mode": {
    "name": "ipython",
    "version": 3
   },
   "file_extension": ".py",
   "mimetype": "text/x-python",
   "name": "python",
   "nbconvert_exporter": "python",
   "pygments_lexer": "ipython3",
   "version": "3.9.6"
  },
  "orig_nbformat": 4
 },
 "nbformat": 4,
 "nbformat_minor": 2
}
